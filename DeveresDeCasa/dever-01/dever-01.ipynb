{
  "nbformat": 4,
  "nbformat_minor": 0,
  "metadata": {
    "colab": {
      "provenance": []
    },
    "kernelspec": {
      "name": "python3",
      "display_name": "Python 3"
    },
    "language_info": {
      "name": "python"
    }
  },
  "cells": [
    {
      "cell_type": "code",
      "execution_count": null,
      "metadata": {
        "colab": {
          "base_uri": "https://localhost:8080/"
        },
        "id": "f_ksIlKSsV5n",
        "outputId": "c8505d31-e149-4476-8bc9-f6f7b1555e0e"
      },
      "outputs": [
        {
          "output_type": "stream",
          "name": "stdout",
          "text": [
            "Generating locales (this might take a while)...\n",
            "  pt_BR.ISO-8859-1... done\n",
            "Generation complete.\n",
            "\u001b[1mdpkg-trigger:\u001b[0m \u001b[1;31merror:\u001b[0m must be called from a maintainer script (or with a --by-package option)\n",
            "\n",
            "Type dpkg-trigger --help for help about this utility.\n",
            "Generating locales (this might take a while)...\n",
            "  en_US.UTF-8... done\n",
            "  pt_BR.ISO-8859-1... done\n",
            "Generation complete.\n",
            "dpkg-query: package 'pt_br' is not installed and no information is available\n",
            "Use dpkg --info (= dpkg-deb --info) to examine archive files.\n",
            "/usr/sbin/dpkg-reconfigure: pt_BR is not installed\n"
          ]
        }
      ],
      "source": [
        "import os\n",
        "import locale\n",
        "\n",
        "!/usr/share/locales/install-language-pack pt_BR\n",
        "!dpkg-reconfigure locales pt_BR\n",
        "\n",
        "os.kill(os.getpid(), 9)"
      ]
    },
    {
      "cell_type": "code",
      "source": [
        "from datetime import datetime\n",
        "import random\n",
        "\n",
        "import os\n",
        "import locale\n",
        "locale.setlocale(locale.LC_ALL, 'pt_BR')\n",
        "from datetime import datetime\n",
        "import pytz\n",
        "\n",
        "import pandas as pd\n",
        "\n",
        "con_fuso_horario = pytz.timezone(\"America/Sao_Paulo\")"
      ],
      "metadata": {
        "id": "zY6ge_FTsp0o"
      },
      "execution_count": null,
      "outputs": []
    },
    {
      "cell_type": "code",
      "source": [
        "# Definições e funções para todos os exemplos\n",
        "# encoding: iso-8859-1\n",
        "\n",
        "from datetime import datetime\n",
        "import random\n",
        "\n",
        "\n",
        "\n",
        "# Ajustando a localização para o Brasil\n",
        "import os\n",
        "import locale\n",
        "locale.setlocale(locale.LC_ALL, 'pt_BR')\n",
        "from datetime import datetime\n",
        "import pytz\n",
        "\n",
        "import pandas as pd\n",
        "\n",
        "# Define o fuso horário para o Brasil (Brasília)\n",
        "con_fuso_horario = pytz.timezone(\"America/Sao_Paulo\")\n",
        "\n",
        "conSeparador= \"\\nXXXXXXXXXXXXX---XXXXXXXXXXXXX\\n\"\n",
        "\n",
        "# Função formatar tempo de execução (dado tempo de inicio e fim, retorna h:m:milisegundos formatado)\n",
        "def formata_tempo_execucao (dttInicio, dttfim):\n",
        "    strTempo = dttfim - dttInicio\n",
        "    str_tempo_execucao_formatado = \"{:02d}:{:02d}.{:06d}\".format(\n",
        "    strTempo.seconds // 60,  # Minutos\n",
        "    strTempo.seconds % 60,  # Segundos\n",
        "    strTempo.microseconds  # Microsegundos\n",
        "    )\n",
        "    return str_tempo_execucao_formatado\n",
        "\n",
        "def formata_data(dttParametro):\n",
        "  return dttParametro.strftime(\"%d/%m/%Y - %H:%M:%S.%f\")\n",
        "\n",
        "def formata_numero(numero):\n",
        "    return locale.format_string(\"%d\", numero, grouping=True)\n",
        "\n",
        "# Cria um array do tamanho intElementosArray, valores inteiros entre intMin e intMax)\n",
        "def montar_array (intElementosArray,intMin, intMax):\n",
        "  x = 0\n",
        "  array = []\n",
        "  while x < intTamArray:\n",
        "    intElementosArray = random.randint(intMin,intMax)\n",
        "    array.append (intElementosArray)\n",
        "    x += 1\n",
        "  return (array)\n",
        "\n",
        "def ler_inteiro (strMensagem):\n",
        "  while True:\n",
        "    try:      # Se nenhuma exceção ocorrer, a cláusula except é ignorada e a execução da instrução try é finalizada\n",
        "      tamanho = int(input(strMensagem))\n",
        "      break  # Se a entrada for válida, sai do loop e finaliza o programa\n",
        "    except ValueError:\n",
        "      print(\"Erro: Por favor, digite um número inteiro valido.\")\n",
        "  return tamanho\n",
        "\n",
        "\n",
        "def carregar_array():\n",
        "    arrMeuArray = []\n",
        "    while True:\n",
        "        entrada = input(\"Digite um número inteiro para o array (-1 para sair): \")\n",
        "        try:\n",
        "            numero = int(entrada)\n",
        "        except ValueError:\n",
        "            print(\"Por favor, digite um número inteiro válido.\")\n",
        "            continue\n",
        "        if numero == -1:\n",
        "            break\n",
        "        arrMeuArray.append(numero)\n",
        "        print (f\"O array atual tem {str(len(arrMeuArray))}. Seu conteúdo é \\n\")\n",
        "        print (arrMeuArray)\n",
        "    return arrMeuArray\n",
        "\n",
        "def marcar_inicio (strMensagem):\n",
        "  dttInicio = datetime.now(con_fuso_horario)\n",
        "  dttInicioFormatado = formata_data(dttInicio)\n",
        "  print(f\"Iniciando {strMensagem} as : \" + str(dttInicioFormatado))\n",
        "  return dttInicio\n",
        "\n",
        "def marcar_fim (strMensagem):\n",
        "  dttFim = datetime.now(con_fuso_horario)\n",
        "  dttFimFormatado = formata_data (dttFim)\n",
        "  print(f\"Finalizando {strMensagem} as : \" + str(dttFimFormatado))\n",
        "  return dttFim\n",
        "\n",
        "def ler_arquivo_csv_para_lista(nome_arquivo):\n",
        "    try:\n",
        "        dados = pd.read_csv(nome_arquivo)\n",
        "        return dados.values.tolist()  # Converte o DataFrame para uma lista de listas\n",
        "    except FileNotFoundError:\n",
        "        print(f\"Erro: Arquivo '{nome_arquivo}' não encontrado.\")\n",
        "        return None"
      ],
      "metadata": {
        "id": "hJ-yUwN1u5oU"
      },
      "execution_count": null,
      "outputs": []
    },
    {
      "cell_type": "code",
      "source": [
        "'''\n",
        "#Teste 01\n",
        "x = 2\n",
        "y = 2\n",
        "\n",
        "print (x + y)\n",
        "\n",
        "#Teste 02\n",
        "x = \"2\"\n",
        "y = 2\n",
        "\n",
        "print (x + y)\n",
        "\n",
        "#Teste 03\n",
        "strFrase = \"No Brasil, o melhor curso de ADS é do IESB.\"\n",
        "\n",
        "strPedaco01 = strFrase[1:5]\n",
        "\n",
        "print (strPedaco01)\n",
        "\n",
        "\n",
        "#Teste 04\n",
        "lisMinhaLista = [ \"Pablo\", 26, \"janeiro\"]\n",
        "print(len(lisMinhaLista))\n",
        "print (lisMinhaLista[1])\n",
        "lisMinhaLista[1] = \"Atenção!\"\n",
        "print (lisMinhaLista[1])\n",
        "\n",
        "#Teste 05\n",
        "lisMinhaLista = [ \"Pablo\", 26, \"janeiro\"]\n",
        "for item in lisMinhaLista:\n",
        "    print (item)\n",
        "\n",
        "\n",
        "#Teste 06\n",
        "i = 1\n",
        "lisMinhaLista = []\n",
        "while i < 5:\n",
        "    lisMinhaLista.append (i)\n",
        "    i+=1\n",
        "x=0\n",
        "\n",
        "for item in lisMinhaLista:\n",
        "    x = x + item\n",
        "print (x)\n",
        "\n",
        "\n",
        "#Teste 07\n",
        "lisMinhaLista = [ \"Pablo\", 26, \"janeiro\"]\n",
        "for index, item in enumerate(lisMinhaLista):\n",
        "    if item == 26:\n",
        "        print (\"Dia do aniversário é o item: \" + str(index + 1))\n",
        "        break\n",
        "\n",
        "\n",
        "\n",
        "#Teste 08\n",
        "# Considerando o arqquivo CSV com os dados:\n",
        "# Nome, Dia nascimento\n",
        "# Pablo, 26\n",
        "# João, 27\n",
        "# Maria, 28\n",
        "\n",
        "import pandas as pd\n",
        "csvDados = pd.read_csv ('R:\\\\Users\\\\Pablo\\\\MeusDocumentos\\\\Pessoais\\\\IESB\\\\Máquinas que aprendem\\\\Códigos\\\\Aula01\\\\Exposição\\\\meuArquivoCSV.csv')\n",
        "print (csvDados['Nome'][1])\n",
        "\n",
        "'''"
      ],
      "metadata": {
        "colab": {
          "base_uri": "https://localhost:8080/",
          "height": 105
        },
        "id": "xeMM5pqHvLaE",
        "outputId": "98637bda-e10c-4bfa-91e2-729c7ba283fd"
      },
      "execution_count": null,
      "outputs": [
        {
          "output_type": "execute_result",
          "data": {
            "text/plain": [
              "'\\n#Teste 01\\nx = 2\\ny = 2\\n\\nprint (x + y)\\n\\n#Teste 02\\nx = \"2\"\\ny = 2\\n\\nprint (x + y)\\n\\n#Teste 03\\nstrFrase = \"No Brasil, o melhor curso de ADS é do IESB.\"\\n\\nstrPedaco01 = strFrase[1:5]\\n\\nprint (strPedaco01)\\n\\n\\n#Teste 04\\nlisMinhaLista = [ \"Pablo\", 26, \"janeiro\"]\\nprint(len(lisMinhaLista))\\nprint (lisMinhaLista[1])\\nlisMinhaLista[1] = \"Atenção!\"\\nprint (lisMinhaLista[1])\\n\\n#Teste 05\\nlisMinhaLista = [ \"Pablo\", 26, \"janeiro\"]\\nfor item in lisMinhaLista:\\n    print (item)\\n\\n\\n#Teste 06\\ni = 1\\nlisMinhaLista = []\\nwhile i < 5:     \\n    lisMinhaLista.append (i)\\n    i+=1\\nx=0\\n\\nfor item in lisMinhaLista:\\n    x = x + item\\nprint (x)\\n\\n\\n#Teste 07\\nlisMinhaLista = [ \"Pablo\", 26, \"janeiro\"]\\nfor index, item in enumerate(lisMinhaLista):\\n    if item == 26:\\n        print (\"Dia do aniversário é o item: \" + str(index + 1))\\n        break\\n\\n\\n\\n#Teste 08\\n# Considerando o arqquivo CSV com os dados:\\n# Nome, Dia nascimento\\n# Pablo, 26\\n# João, 27\\n# Maria, 28\\n\\nimport pandas as pd\\ncsvDados = pd.read_csv (\\'R:\\\\Users\\\\Pablo\\\\MeusDocumentos\\\\Pessoais\\\\IESB\\\\Máquinas que aprendem\\\\Códigos\\\\Aula01\\\\Exposição\\\\meuArquivoCSV.csv\\')\\nprint (csvDados[\\'Nome\\'][1])\\n\\n'"
            ],
            "application/vnd.google.colaboratory.intrinsic+json": {
              "type": "string"
            }
          },
          "metadata": {},
          "execution_count": 18
        }
      ]
    },
    {
      "cell_type": "code",
      "source": [
        "import csv\n",
        "\n",
        "# Dados que você deseja escrever no arquivo CSV\n",
        "dados = [\n",
        "    ['Nome', 'Idade', 'Cidade'],\n",
        "    ['Alice', 25, 'São Paulo'],\n",
        "    ['Bob', 30, 'Rio de Janeiro'],\n",
        "    ['Carol', 22, 'Belo Horizonte'],\n",
        "    ['David', 35, 'Salvador'],\n",
        "    ['Eve', 28, 'Porto Alegre']\n",
        "]\n",
        "\n",
        "# Nome do arquivo CSV que será criado\n",
        "nome_arquivo = 'dados.csv'\n",
        "\n",
        "# Abre o arquivo em modo de escrita ('w') e cria um objeto escritor CSV\n",
        "with open(nome_arquivo, 'w', newline='', encoding='utf-8') as arquivo_csv:\n",
        "    escritor_csv = csv.writer(arquivo_csv)\n",
        "\n",
        "    # Escreve cada linha dos dados no arquivo CSV\n",
        "    escritor_csv.writerows(dados)\n",
        "\n",
        "print(f'Arquivo CSV \"{nome_arquivo}\" criado com sucesso!')"
      ],
      "metadata": {
        "colab": {
          "base_uri": "https://localhost:8080/"
        },
        "id": "s60fRyZhxWHr",
        "outputId": "4ec0c155-a77d-4165-f2a7-0befbe9cb320"
      },
      "execution_count": 5,
      "outputs": [
        {
          "output_type": "stream",
          "name": "stdout",
          "text": [
            "Arquivo CSV \"dados.csv\" criado com sucesso!\n"
          ]
        }
      ]
    },
    {
      "cell_type": "code",
      "source": [
        "!git push origin main"
      ],
      "metadata": {
        "colab": {
          "base_uri": "https://localhost:8080/"
        },
        "id": "en_vfpB305dW",
        "outputId": "16508b44-a347-4203-e6e0-56eb8627676e"
      },
      "execution_count": 17,
      "outputs": [
        {
          "output_type": "stream",
          "name": "stdout",
          "text": [
            "fatal: could not read Username for 'https://github.com': No such device or address\n"
          ]
        }
      ]
    }
  ]
}